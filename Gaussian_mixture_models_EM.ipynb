{
 "cells": [
  {
   "cell_type": "code",
   "execution_count": 7,
   "metadata": {},
   "outputs": [],
   "source": [
    "import numpy as np\n",
    "import matplotlib.pyplot as plt\n",
    "from gmm_em import *"
   ]
  },
  {
   "cell_type": "code",
   "execution_count": 83,
   "metadata": {},
   "outputs": [],
   "source": [
    "z = np.array([.4, .6])\n",
    "mus = np.array([[-2, -2], [2, -3]])\n",
    "covs = np.array([[[1, 0], [0, .2]], [[1, 0], [0, .1]]])"
   ]
  },
  {
   "cell_type": "code",
   "execution_count": 84,
   "metadata": {},
   "outputs": [],
   "source": [
    "colors = ['b', 'r']"
   ]
  },
  {
   "cell_type": "code",
   "execution_count": 85,
   "metadata": {},
   "outputs": [],
   "source": [
    "X1 = np.empty((0, 2))\n",
    "X2 = np.empty((0, 2))\n",
    "for i in range(10):\n",
    "    z_k = np.random.choice(np.arange(len(z)), p=z)\n",
    "    if z_k == 0:\n",
    "        X1 = np.vstack([X1, np.random.multivariate_normal(mus[z_k], covs[z_k], size=100)])\n",
    "    else:\n",
    "        X2 = np.vstack([X2, np.random.multivariate_normal(mus[z_k], covs[z_k], size=100)])"
   ]
  },
  {
   "cell_type": "code",
   "execution_count": 86,
   "metadata": {},
   "outputs": [
    {
     "data": {
      "text/plain": [
       "<matplotlib.collections.PathCollection at 0x238c5aa5dd8>"
      ]
     },
     "execution_count": 86,
     "metadata": {},
     "output_type": "execute_result"
    },
    {
     "data": {
      "image/png": "[encoded data removed]",
      "text/plain": [
       "<Figure size 432x288 with 1 Axes>"
      ]
     },
     "metadata": {
      "needs_background": "light"
     },
     "output_type": "display_data"
    }
   ],
   "source": [
    "x1, y1 = X1.T\n",
    "x2, y2 = X2.T\n",
    "ax = plt.gca()\n",
    "confidence_ellipse(x1, y1, ax, edgecolor='red')\n",
    "confidence_ellipse(x2, y2, ax, edgecolor='blue')\n",
    "ax.scatter(x1, y1, c='red', s=3)\n",
    "ax.scatter(x2, y2, c='blue', s=3)"
   ]
  },
  {
   "cell_type": "markdown",
   "metadata": {},
   "source": [
    "### Initialize mean and covariance and pi"
   ]
  },
  {
   "cell_type": "code",
   "execution_count": 88,
   "metadata": {},
   "outputs": [],
   "source": [
    "zc = np.array([.7, .3])\n",
    "mc = np.array([[-4, -6], [4, 0]])\n",
    "\n",
    "\n",
    "cc = np.array([[[.2, 0], [0, .2]], [[.2, 0], [0, .2]]])"
   ]
  },
  {
   "cell_type": "code",
   "execution_count": 89,
   "metadata": {},
   "outputs": [],
   "source": [
    "X = np.vstack([X1, X2])\n",
    "N = len(X)\n",
    "K = len(zc)"
   ]
  },
  {
   "cell_type": "code",
   "execution_count": 90,
   "metadata": {},
   "outputs": [],
   "source": [
    "X1_c = np.empty((0, 2))\n",
    "X2_c = np.empty((0, 2))\n",
    "zc = np.reshape(zc, (1, 2))[0]\n",
    "for i in range(10):\n",
    "    z_k = np.random.choice(np.arange(len(zc)), p=zc)\n",
    "    if z_k == 0:\n",
    "        X1_c = np.vstack([X1_c, np.random.multivariate_normal(mc[z_k], cc[z_k], size=100)])\n",
    "    else:\n",
    "        X2_c = np.vstack([X2_c, np.random.multivariate_normal(mc[z_k], cc[z_k], size=100)])\n",
    "\n",
    "x1_c, y1_c = X1_c.T\n",
    "x2_c, y2_c = X2_c.T\n",
    "ax = plt.gca()\n",
    "confidence_ellipse(x1_c, y1_c, ax, edgecolor='black')\n",
    "confidence_ellipse(x2_c, y2_c, ax, edgecolor='green')\n",
    "# Old confidences and data\n",
    "confidence_ellipse(x1, y1, ax, edgecolor='red')\n",
    "confidence_ellipse(x2, y2, ax, edgecolor='blue')\n",
    "ax.scatter(x1, y1, c='red', s=3)\n",
    "ax.scatter(x2, y2, c='blue', s=3)\n",
    "plt.savefig(\"em_0\")\n",
    "plt.close()"
   ]
  },
  {
   "cell_type": "code",
   "execution_count": 91,
   "metadata": {},
   "outputs": [
    {
     "name": "stdout",
     "output_type": "stream",
     "text": [
      "Starting EM...\n",
      "[[-2.18418608 -2.06294816]\n",
      " [ 1.88657727 -2.83784986]]\n",
      "[[-2.1505997  -2.02280254]\n",
      " [ 1.95543954 -2.9119831 ]]\n",
      "[[-2.11454495 -2.0075749 ]\n",
      " [ 2.02794983 -2.95947635]]\n",
      "[[-2.0868104  -2.00716575]\n",
      " [ 2.07666673 -2.98037553]]\n",
      "[[-2.07081572 -2.00960698]\n",
      " [ 2.10249374 -2.98830642]]\n",
      "Done!\n"
     ]
    }
   ],
   "source": [
    "ll = log_likelihood(N, K, mc, cc, zc, X)\n",
    "new_ll = 1000000000000\n",
    "print(\"Starting EM...\")\n",
    "image_nr = 1\n",
    "while abs(ll - new_ll) > 1**-6:\n",
    "    ll = new_ll\n",
    "    resp = e_step(N, K, mc, cc, zc, X)\n",
    "    mc, cc, zc = m_step(N, K, X, resp)\n",
    "    print(mc)\n",
    "    new_ll = log_likelihood(N, K, mc, cc, zc, X)\n",
    "    \n",
    "    X1_c = np.empty((0, 2))\n",
    "    X2_c = np.empty((0, 2))\n",
    "    zc = np.reshape(zc, (1, 2))[0]\n",
    "    for i in range(10):\n",
    "        z_k = np.random.choice(np.arange(len(zc)), p=zc)\n",
    "        if z_k == 0:\n",
    "            X1_c = np.vstack([X1_c, np.random.multivariate_normal(mc[z_k], cc[z_k], size=100)])\n",
    "        else:\n",
    "            X2_c = np.vstack([X2_c, np.random.multivariate_normal(mc[z_k], cc[z_k], size=100)])\n",
    "    \n",
    "    x1_c, y1_c = X1_c.T\n",
    "    x2_c, y2_c = X2_c.T\n",
    "    ax = plt.gca()\n",
    "    confidence_ellipse(x1_c, y1_c, ax, edgecolor='black')\n",
    "    confidence_ellipse(x2_c, y2_c, ax, edgecolor='green')\n",
    "    # Old confidences and data\n",
    "    confidence_ellipse(x1, y1, ax, edgecolor='red')\n",
    "    confidence_ellipse(x2, y2, ax, edgecolor='blue')\n",
    "    ax.scatter(x1, y1, c='red', s=3)\n",
    "    ax.scatter(x2, y2, c='blue', s=3)\n",
    "    plt.savefig(\"em_\" + str(image_nr))\n",
    "    plt.close()\n",
    "    image_nr += 1\n",
    "    \n",
    "print(\"Done!\")"
   ]
  },
  {
   "cell_type": "code",
   "execution_count": 41,
   "metadata": {},
   "outputs": [
    {
     "data": {
      "text/plain": [
       "array([[[ 0.7892891 , -0.63907974],\n",
       "        [-0.63907974,  0.53701688]],\n",
       "\n",
       "       [[ 1.45734983, -0.49183565],\n",
       "        [-0.49183565,  0.73826236]]])"
      ]
     },
     "execution_count": 41,
     "metadata": {},
     "output_type": "execute_result"
    }
   ],
   "source": [
    "cc"
   ]
  },
  {
   "cell_type": "markdown",
   "metadata": {},
   "source": [
    "#### From here on is TODO"
   ]
  },
  {
   "cell_type": "code",
   "execution_count": 14,
   "metadata": {},
   "outputs": [],
   "source": [
    "import pandas\n",
    "data = pandas.read_csv(\"faithful.csv\")\n",
    "XF = data.loc[:, \"eruptions\":\"waiting\"].values"
   ]
  },
  {
   "cell_type": "code",
   "execution_count": 15,
   "metadata": {},
   "outputs": [
    {
     "data": {
      "text/plain": [
       "[<matplotlib.lines.Line2D at 0x192bd4bbf60>]"
      ]
     },
     "execution_count": 15,
     "metadata": {},
     "output_type": "execute_result"
    },
    {
     "data": {
      "image/png": "[encoded data removed]",
      "text/plain": [
       "<Figure size 432x288 with 1 Axes>"
      ]
     },
     "metadata": {
      "needs_background": "light"
     },
     "output_type": "display_data"
    }
   ],
   "source": [
    "xf, yf = XF.T\n",
    "plt.plot(xf, yf, 'o')"
   ]
  },
  {
   "cell_type": "code",
   "execution_count": 39,
   "metadata": {},
   "outputs": [
    {
     "name": "stdout",
     "output_type": "stream",
     "text": [
      "[[ 4.72832051 79.3783265 ]\n",
      " [ 3.19488755 59.09461296]]\n"
     ]
    }
   ],
   "source": [
    "zc = np.random.rand(2)\n",
    "zc = zc / np.sum(zc)\n",
    "mc1 = np.random.uniform(1, 5, (2, 1))\n",
    "mc2 = np.random.uniform(40, 110, (2, 1))\n",
    "mc = np.hstack([mc1, mc2])\n",
    "print(mc)\n",
    "\n",
    "from scipy import random, linalg\n",
    "cc = []\n",
    "for i in range(2):    \n",
    "    size = 2\n",
    "    A = random.rand(size, size)\n",
    "    B = np.dot(A, A.transpose())\n",
    "    cc.append(B)\n",
    "cc = np.reshape(cc, (len(zc), 2, 2))"
   ]
  },
  {
   "cell_type": "code",
   "execution_count": 40,
   "metadata": {},
   "outputs": [],
   "source": [
    "N = len(XF)\n",
    "K = len(zc)"
   ]
  },
  {
   "cell_type": "code",
   "execution_count": 41,
   "metadata": {},
   "outputs": [],
   "source": [
    "XF1_c = np.empty((0, 2))\n",
    "XF2_c = np.empty((0, 2))\n",
    "zc = np.reshape(zc, (1, 2))[0]\n",
    "for i in range(10):\n",
    "    z_k = np.random.choice(np.arange(len(zc)), p=zc)\n",
    "    if z_k == 0:\n",
    "        XF1_c = np.vstack([X1_c, np.random.multivariate_normal(mc[z_k], cc[z_k], size=100)])\n",
    "    else:\n",
    "        XF2_c = np.vstack([X2_c, np.random.multivariate_normal(mc[z_k], cc[z_k], size=100)])\n",
    "\n",
    "xF1_c, yF1_c = X1_c.T\n",
    "xF2_c, yF2_c = X2_c.T\n",
    "ax = plt.gca()\n",
    "confidence_ellipse(xF1_c, yF1_c, ax, edgecolor='green')\n",
    "confidence_ellipse(xF2_c, yF2_c, ax, edgecolor='red')\n",
    "\n",
    "ax.scatter(xf, yf, c='blue', s=3)\n",
    "plt.savefig(\"em_f_0\")\n",
    "plt.close()"
   ]
  },
  {
   "cell_type": "code",
   "execution_count": 42,
   "metadata": {},
   "outputs": [
    {
     "data": {
      "text/plain": [
       "array([[ 3.6  , 79.   ],\n",
       "       [ 1.8  , 54.   ],\n",
       "       [ 3.333, 74.   ],\n",
       "       [ 2.283, 62.   ],\n",
       "       [ 4.533, 85.   ],\n",
       "       [ 2.883, 55.   ],\n",
       "       [ 4.7  , 88.   ],\n",
       "       [ 3.6  , 85.   ],\n",
       "       [ 1.95 , 51.   ],\n",
       "       [ 4.35 , 85.   ],\n",
       "       [ 1.833, 54.   ],\n",
       "       [ 3.917, 84.   ],\n",
       "       [ 4.2  , 78.   ],\n",
       "       [ 1.75 , 47.   ],\n",
       "       [ 4.7  , 83.   ],\n",
       "       [ 2.167, 52.   ],\n",
       "       [ 1.75 , 62.   ],\n",
       "       [ 4.8  , 84.   ],\n",
       "       [ 1.6  , 52.   ],\n",
       "       [ 4.25 , 79.   ],\n",
       "       [ 1.8  , 51.   ],\n",
       "       [ 1.75 , 47.   ],\n",
       "       [ 3.45 , 78.   ],\n",
       "       [ 3.067, 69.   ],\n",
       "       [ 4.533, 74.   ],\n",
       "       [ 3.6  , 83.   ],\n",
       "       [ 1.967, 55.   ],\n",
       "       [ 4.083, 76.   ],\n",
       "       [ 3.85 , 78.   ],\n",
       "       [ 4.433, 79.   ],\n",
       "       [ 4.3  , 73.   ],\n",
       "       [ 4.467, 77.   ],\n",
       "       [ 3.367, 66.   ],\n",
       "       [ 4.033, 80.   ],\n",
       "       [ 3.833, 74.   ],\n",
       "       [ 2.017, 52.   ],\n",
       "       [ 1.867, 48.   ],\n",
       "       [ 4.833, 80.   ],\n",
       "       [ 1.833, 59.   ],\n",
       "       [ 4.783, 90.   ],\n",
       "       [ 4.35 , 80.   ],\n",
       "       [ 1.883, 58.   ],\n",
       "       [ 4.567, 84.   ],\n",
       "       [ 1.75 , 58.   ],\n",
       "       [ 4.533, 73.   ],\n",
       "       [ 3.317, 83.   ],\n",
       "       [ 3.833, 64.   ],\n",
       "       [ 2.1  , 53.   ],\n",
       "       [ 4.633, 82.   ],\n",
       "       [ 2.   , 59.   ],\n",
       "       [ 4.8  , 75.   ],\n",
       "       [ 4.716, 90.   ],\n",
       "       [ 1.833, 54.   ],\n",
       "       [ 4.833, 80.   ],\n",
       "       [ 1.733, 54.   ],\n",
       "       [ 4.883, 83.   ],\n",
       "       [ 3.717, 71.   ],\n",
       "       [ 1.667, 64.   ],\n",
       "       [ 4.567, 77.   ],\n",
       "       [ 4.317, 81.   ],\n",
       "       [ 2.233, 59.   ],\n",
       "       [ 4.5  , 84.   ],\n",
       "       [ 1.75 , 48.   ],\n",
       "       [ 4.8  , 82.   ],\n",
       "       [ 1.817, 60.   ],\n",
       "       [ 4.4  , 92.   ],\n",
       "       [ 4.167, 78.   ],\n",
       "       [ 4.7  , 78.   ],\n",
       "       [ 2.067, 65.   ],\n",
       "       [ 4.7  , 73.   ],\n",
       "       [ 4.033, 82.   ],\n",
       "       [ 1.967, 56.   ],\n",
       "       [ 4.5  , 79.   ],\n",
       "       [ 4.   , 71.   ],\n",
       "       [ 1.983, 62.   ],\n",
       "       [ 5.067, 76.   ],\n",
       "       [ 2.017, 60.   ],\n",
       "       [ 4.567, 78.   ],\n",
       "       [ 3.883, 76.   ],\n",
       "       [ 3.6  , 83.   ],\n",
       "       [ 4.133, 75.   ],\n",
       "       [ 4.333, 82.   ],\n",
       "       [ 4.1  , 70.   ],\n",
       "       [ 2.633, 65.   ],\n",
       "       [ 4.067, 73.   ],\n",
       "       [ 4.933, 88.   ],\n",
       "       [ 3.95 , 76.   ],\n",
       "       [ 4.517, 80.   ],\n",
       "       [ 2.167, 48.   ],\n",
       "       [ 4.   , 86.   ],\n",
       "       [ 2.2  , 60.   ],\n",
       "       [ 4.333, 90.   ],\n",
       "       [ 1.867, 50.   ],\n",
       "       [ 4.817, 78.   ],\n",
       "       [ 1.833, 63.   ],\n",
       "       [ 4.3  , 72.   ],\n",
       "       [ 4.667, 84.   ],\n",
       "       [ 3.75 , 75.   ],\n",
       "       [ 1.867, 51.   ],\n",
       "       [ 4.9  , 82.   ],\n",
       "       [ 2.483, 62.   ],\n",
       "       [ 4.367, 88.   ],\n",
       "       [ 2.1  , 49.   ],\n",
       "       [ 4.5  , 83.   ],\n",
       "       [ 4.05 , 81.   ],\n",
       "       [ 1.867, 47.   ],\n",
       "       [ 4.7  , 84.   ],\n",
       "       [ 1.783, 52.   ],\n",
       "       [ 4.85 , 86.   ],\n",
       "       [ 3.683, 81.   ],\n",
       "       [ 4.733, 75.   ],\n",
       "       [ 2.3  , 59.   ],\n",
       "       [ 4.9  , 89.   ],\n",
       "       [ 4.417, 79.   ],\n",
       "       [ 1.7  , 59.   ],\n",
       "       [ 4.633, 81.   ],\n",
       "       [ 2.317, 50.   ],\n",
       "       [ 4.6  , 85.   ],\n",
       "       [ 1.817, 59.   ],\n",
       "       [ 4.417, 87.   ],\n",
       "       [ 2.617, 53.   ],\n",
       "       [ 4.067, 69.   ],\n",
       "       [ 4.25 , 77.   ],\n",
       "       [ 1.967, 56.   ],\n",
       "       [ 4.6  , 88.   ],\n",
       "       [ 3.767, 81.   ],\n",
       "       [ 1.917, 45.   ],\n",
       "       [ 4.5  , 82.   ],\n",
       "       [ 2.267, 55.   ],\n",
       "       [ 4.65 , 90.   ],\n",
       "       [ 1.867, 45.   ],\n",
       "       [ 4.167, 83.   ],\n",
       "       [ 2.8  , 56.   ],\n",
       "       [ 4.333, 89.   ],\n",
       "       [ 1.833, 46.   ],\n",
       "       [ 4.383, 82.   ],\n",
       "       [ 1.883, 51.   ],\n",
       "       [ 4.933, 86.   ],\n",
       "       [ 2.033, 53.   ],\n",
       "       [ 3.733, 79.   ],\n",
       "       [ 4.233, 81.   ],\n",
       "       [ 2.233, 60.   ],\n",
       "       [ 4.533, 82.   ],\n",
       "       [ 4.817, 77.   ],\n",
       "       [ 4.333, 76.   ],\n",
       "       [ 1.983, 59.   ],\n",
       "       [ 4.633, 80.   ],\n",
       "       [ 2.017, 49.   ],\n",
       "       [ 5.1  , 96.   ],\n",
       "       [ 1.8  , 53.   ],\n",
       "       [ 5.033, 77.   ],\n",
       "       [ 4.   , 77.   ],\n",
       "       [ 2.4  , 65.   ],\n",
       "       [ 4.6  , 81.   ],\n",
       "       [ 3.567, 71.   ],\n",
       "       [ 4.   , 70.   ],\n",
       "       [ 4.5  , 81.   ],\n",
       "       [ 4.083, 93.   ],\n",
       "       [ 1.8  , 53.   ],\n",
       "       [ 3.967, 89.   ],\n",
       "       [ 2.2  , 45.   ],\n",
       "       [ 4.15 , 86.   ],\n",
       "       [ 2.   , 58.   ],\n",
       "       [ 3.833, 78.   ],\n",
       "       [ 3.5  , 66.   ],\n",
       "       [ 4.583, 76.   ],\n",
       "       [ 2.367, 63.   ],\n",
       "       [ 5.   , 88.   ],\n",
       "       [ 1.933, 52.   ],\n",
       "       [ 4.617, 93.   ],\n",
       "       [ 1.917, 49.   ],\n",
       "       [ 2.083, 57.   ],\n",
       "       [ 4.583, 77.   ],\n",
       "       [ 3.333, 68.   ],\n",
       "       [ 4.167, 81.   ],\n",
       "       [ 4.333, 81.   ],\n",
       "       [ 4.5  , 73.   ],\n",
       "       [ 2.417, 50.   ],\n",
       "       [ 4.   , 85.   ],\n",
       "       [ 4.167, 74.   ],\n",
       "       [ 1.883, 55.   ],\n",
       "       [ 4.583, 77.   ],\n",
       "       [ 4.25 , 83.   ],\n",
       "       [ 3.767, 83.   ],\n",
       "       [ 2.033, 51.   ],\n",
       "       [ 4.433, 78.   ],\n",
       "       [ 4.083, 84.   ],\n",
       "       [ 1.833, 46.   ],\n",
       "       [ 4.417, 83.   ],\n",
       "       [ 2.183, 55.   ],\n",
       "       [ 4.8  , 81.   ],\n",
       "       [ 1.833, 57.   ],\n",
       "       [ 4.8  , 76.   ],\n",
       "       [ 4.1  , 84.   ],\n",
       "       [ 3.966, 77.   ],\n",
       "       [ 4.233, 81.   ],\n",
       "       [ 3.5  , 87.   ],\n",
       "       [ 4.366, 77.   ],\n",
       "       [ 2.25 , 51.   ],\n",
       "       [ 4.667, 78.   ],\n",
       "       [ 2.1  , 60.   ],\n",
       "       [ 4.35 , 82.   ],\n",
       "       [ 4.133, 91.   ],\n",
       "       [ 1.867, 53.   ],\n",
       "       [ 4.6  , 78.   ],\n",
       "       [ 1.783, 46.   ],\n",
       "       [ 4.367, 77.   ],\n",
       "       [ 3.85 , 84.   ],\n",
       "       [ 1.933, 49.   ],\n",
       "       [ 4.5  , 83.   ],\n",
       "       [ 2.383, 71.   ],\n",
       "       [ 4.7  , 80.   ],\n",
       "       [ 1.867, 49.   ],\n",
       "       [ 3.833, 75.   ],\n",
       "       [ 3.417, 64.   ],\n",
       "       [ 4.233, 76.   ],\n",
       "       [ 2.4  , 53.   ],\n",
       "       [ 4.8  , 94.   ],\n",
       "       [ 2.   , 55.   ],\n",
       "       [ 4.15 , 76.   ],\n",
       "       [ 1.867, 50.   ],\n",
       "       [ 4.267, 82.   ],\n",
       "       [ 1.75 , 54.   ],\n",
       "       [ 4.483, 75.   ],\n",
       "       [ 4.   , 78.   ],\n",
       "       [ 4.117, 79.   ],\n",
       "       [ 4.083, 78.   ],\n",
       "       [ 4.267, 78.   ],\n",
       "       [ 3.917, 70.   ],\n",
       "       [ 4.55 , 79.   ],\n",
       "       [ 4.083, 70.   ],\n",
       "       [ 2.417, 54.   ],\n",
       "       [ 4.183, 86.   ],\n",
       "       [ 2.217, 50.   ],\n",
       "       [ 4.45 , 90.   ],\n",
       "       [ 1.883, 54.   ],\n",
       "       [ 1.85 , 54.   ],\n",
       "       [ 4.283, 77.   ],\n",
       "       [ 3.95 , 79.   ],\n",
       "       [ 2.333, 64.   ],\n",
       "       [ 4.15 , 75.   ],\n",
       "       [ 2.35 , 47.   ],\n",
       "       [ 4.933, 86.   ],\n",
       "       [ 2.9  , 63.   ],\n",
       "       [ 4.583, 85.   ],\n",
       "       [ 3.833, 82.   ],\n",
       "       [ 2.083, 57.   ],\n",
       "       [ 4.367, 82.   ],\n",
       "       [ 2.133, 67.   ],\n",
       "       [ 4.35 , 74.   ],\n",
       "       [ 2.2  , 54.   ],\n",
       "       [ 4.45 , 83.   ],\n",
       "       [ 3.567, 73.   ],\n",
       "       [ 4.5  , 73.   ],\n",
       "       [ 4.15 , 88.   ],\n",
       "       [ 3.817, 80.   ],\n",
       "       [ 3.917, 71.   ],\n",
       "       [ 4.45 , 83.   ],\n",
       "       [ 2.   , 56.   ],\n",
       "       [ 4.283, 79.   ],\n",
       "       [ 4.767, 78.   ],\n",
       "       [ 4.533, 84.   ],\n",
       "       [ 1.85 , 58.   ],\n",
       "       [ 4.25 , 83.   ],\n",
       "       [ 1.983, 43.   ],\n",
       "       [ 2.25 , 60.   ],\n",
       "       [ 4.75 , 75.   ],\n",
       "       [ 4.117, 81.   ],\n",
       "       [ 2.15 , 46.   ],\n",
       "       [ 4.417, 90.   ],\n",
       "       [ 1.817, 46.   ],\n",
       "       [ 4.467, 74.   ]])"
      ]
     },
     "execution_count": 42,
     "metadata": {},
     "output_type": "execute_result"
    }
   ],
   "source": [
    "XF"
   ]
  },
  {
   "cell_type": "code",
   "execution_count": 43,
   "metadata": {},
   "outputs": [
    {
     "name": "stdout",
     "output_type": "stream",
     "text": [
      "Starting EM...\n",
      "[[nan nan]\n",
      " [nan nan]]\n"
     ]
    },
    {
     "ename": "ValueError",
     "evalue": "array must not contain infs or NaNs",
     "output_type": "error",
     "traceback": [
      "\u001b[1;31m---------------------------------------------------------------------------\u001b[0m",
      "\u001b[1;31mValueError\u001b[0m                                Traceback (most recent call last)",
      "\u001b[1;32m<ipython-input-43-399d487417ba>\u001b[0m in \u001b[0;36m<module>\u001b[1;34m\u001b[0m\n\u001b[0;32m      8\u001b[0m     \u001b[0mmc\u001b[0m\u001b[1;33m,\u001b[0m \u001b[0mcc\u001b[0m\u001b[1;33m,\u001b[0m \u001b[0mzc\u001b[0m \u001b[1;33m=\u001b[0m \u001b[0mm_step\u001b[0m\u001b[1;33m(\u001b[0m\u001b[0mN\u001b[0m\u001b[1;33m,\u001b[0m \u001b[0mK\u001b[0m\u001b[1;33m,\u001b[0m \u001b[0mXF\u001b[0m\u001b[1;33m,\u001b[0m \u001b[0mresp\u001b[0m\u001b[1;33m)\u001b[0m\u001b[1;33m\u001b[0m\u001b[1;33m\u001b[0m\u001b[0m\n\u001b[0;32m      9\u001b[0m     \u001b[0mprint\u001b[0m\u001b[1;33m(\u001b[0m\u001b[0mmc\u001b[0m\u001b[1;33m)\u001b[0m\u001b[1;33m\u001b[0m\u001b[1;33m\u001b[0m\u001b[0m\n\u001b[1;32m---> 10\u001b[1;33m     \u001b[0mnew_ll\u001b[0m \u001b[1;33m=\u001b[0m \u001b[0mlog_likelihood\u001b[0m\u001b[1;33m(\u001b[0m\u001b[0mN\u001b[0m\u001b[1;33m,\u001b[0m \u001b[0mK\u001b[0m\u001b[1;33m,\u001b[0m \u001b[0mmc\u001b[0m\u001b[1;33m,\u001b[0m \u001b[0mcc\u001b[0m\u001b[1;33m,\u001b[0m \u001b[0mzc\u001b[0m\u001b[1;33m,\u001b[0m \u001b[0mXF\u001b[0m\u001b[1;33m)\u001b[0m\u001b[1;33m\u001b[0m\u001b[1;33m\u001b[0m\u001b[0m\n\u001b[0m\u001b[0;32m     11\u001b[0m \u001b[1;33m\u001b[0m\u001b[0m\n\u001b[0;32m     12\u001b[0m \u001b[1;33m\u001b[0m\u001b[0m\n",
      "\u001b[1;32m~\\edu\\kth\\advml\\A2\\code\\GMM\\gmm_em.py\u001b[0m in \u001b[0;36mlog_likelihood\u001b[1;34m(N, K, mus, covs, z, X)\u001b[0m\n\u001b[0;32m      5\u001b[0m         \u001b[0minner_sum\u001b[0m \u001b[1;33m=\u001b[0m \u001b[1;36m0\u001b[0m\u001b[1;33m\u001b[0m\u001b[1;33m\u001b[0m\u001b[0m\n\u001b[0;32m      6\u001b[0m         \u001b[1;32mfor\u001b[0m \u001b[0mk\u001b[0m \u001b[1;32min\u001b[0m \u001b[0mrange\u001b[0m\u001b[1;33m(\u001b[0m\u001b[0mK\u001b[0m\u001b[1;33m)\u001b[0m\u001b[1;33m:\u001b[0m\u001b[1;33m\u001b[0m\u001b[1;33m\u001b[0m\u001b[0m\n\u001b[1;32m----> 7\u001b[1;33m             \u001b[0minner_sum\u001b[0m \u001b[1;33m+=\u001b[0m \u001b[0mz\u001b[0m\u001b[1;33m[\u001b[0m\u001b[0mk\u001b[0m\u001b[1;33m]\u001b[0m \u001b[1;33m*\u001b[0m \u001b[0mmultivariate_normal\u001b[0m\u001b[1;33m.\u001b[0m\u001b[0mpdf\u001b[0m\u001b[1;33m(\u001b[0m\u001b[0mX\u001b[0m\u001b[1;33m[\u001b[0m\u001b[0mn\u001b[0m\u001b[1;33m]\u001b[0m\u001b[1;33m,\u001b[0m \u001b[0mmus\u001b[0m\u001b[1;33m[\u001b[0m\u001b[0mk\u001b[0m\u001b[1;33m]\u001b[0m\u001b[1;33m,\u001b[0m \u001b[0mcovs\u001b[0m\u001b[1;33m[\u001b[0m\u001b[0mk\u001b[0m\u001b[1;33m]\u001b[0m\u001b[1;33m)\u001b[0m\u001b[1;33m\u001b[0m\u001b[1;33m\u001b[0m\u001b[0m\n\u001b[0m\u001b[0;32m      8\u001b[0m         \u001b[0mouter_sum\u001b[0m \u001b[1;33m+=\u001b[0m \u001b[0minner_sum\u001b[0m\u001b[1;33m\u001b[0m\u001b[1;33m\u001b[0m\u001b[0m\n\u001b[0;32m      9\u001b[0m     \u001b[1;32mreturn\u001b[0m \u001b[0mouter_sum\u001b[0m\u001b[1;33m\u001b[0m\u001b[1;33m\u001b[0m\u001b[0m\n",
      "\u001b[1;32mc:\\python36\\lib\\site-packages\\scipy\\stats\\_multivariate.py\u001b[0m in \u001b[0;36mpdf\u001b[1;34m(self, x, mean, cov, allow_singular)\u001b[0m\n\u001b[0;32m    519\u001b[0m         \u001b[0mdim\u001b[0m\u001b[1;33m,\u001b[0m \u001b[0mmean\u001b[0m\u001b[1;33m,\u001b[0m \u001b[0mcov\u001b[0m \u001b[1;33m=\u001b[0m \u001b[0mself\u001b[0m\u001b[1;33m.\u001b[0m\u001b[0m_process_parameters\u001b[0m\u001b[1;33m(\u001b[0m\u001b[1;32mNone\u001b[0m\u001b[1;33m,\u001b[0m \u001b[0mmean\u001b[0m\u001b[1;33m,\u001b[0m \u001b[0mcov\u001b[0m\u001b[1;33m)\u001b[0m\u001b[1;33m\u001b[0m\u001b[1;33m\u001b[0m\u001b[0m\n\u001b[0;32m    520\u001b[0m         \u001b[0mx\u001b[0m \u001b[1;33m=\u001b[0m \u001b[0mself\u001b[0m\u001b[1;33m.\u001b[0m\u001b[0m_process_quantiles\u001b[0m\u001b[1;33m(\u001b[0m\u001b[0mx\u001b[0m\u001b[1;33m,\u001b[0m \u001b[0mdim\u001b[0m\u001b[1;33m)\u001b[0m\u001b[1;33m\u001b[0m\u001b[1;33m\u001b[0m\u001b[0m\n\u001b[1;32m--> 521\u001b[1;33m         \u001b[0mpsd\u001b[0m \u001b[1;33m=\u001b[0m \u001b[0m_PSD\u001b[0m\u001b[1;33m(\u001b[0m\u001b[0mcov\u001b[0m\u001b[1;33m,\u001b[0m \u001b[0mallow_singular\u001b[0m\u001b[1;33m=\u001b[0m\u001b[0mallow_singular\u001b[0m\u001b[1;33m)\u001b[0m\u001b[1;33m\u001b[0m\u001b[1;33m\u001b[0m\u001b[0m\n\u001b[0m\u001b[0;32m    522\u001b[0m         \u001b[0mout\u001b[0m \u001b[1;33m=\u001b[0m \u001b[0mnp\u001b[0m\u001b[1;33m.\u001b[0m\u001b[0mexp\u001b[0m\u001b[1;33m(\u001b[0m\u001b[0mself\u001b[0m\u001b[1;33m.\u001b[0m\u001b[0m_logpdf\u001b[0m\u001b[1;33m(\u001b[0m\u001b[0mx\u001b[0m\u001b[1;33m,\u001b[0m \u001b[0mmean\u001b[0m\u001b[1;33m,\u001b[0m \u001b[0mpsd\u001b[0m\u001b[1;33m.\u001b[0m\u001b[0mU\u001b[0m\u001b[1;33m,\u001b[0m \u001b[0mpsd\u001b[0m\u001b[1;33m.\u001b[0m\u001b[0mlog_pdet\u001b[0m\u001b[1;33m,\u001b[0m \u001b[0mpsd\u001b[0m\u001b[1;33m.\u001b[0m\u001b[0mrank\u001b[0m\u001b[1;33m)\u001b[0m\u001b[1;33m)\u001b[0m\u001b[1;33m\u001b[0m\u001b[1;33m\u001b[0m\u001b[0m\n\u001b[0;32m    523\u001b[0m         \u001b[1;32mreturn\u001b[0m \u001b[0m_squeeze_output\u001b[0m\u001b[1;33m(\u001b[0m\u001b[0mout\u001b[0m\u001b[1;33m)\u001b[0m\u001b[1;33m\u001b[0m\u001b[1;33m\u001b[0m\u001b[0m\n",
      "\u001b[1;32mc:\\python36\\lib\\site-packages\\scipy\\stats\\_multivariate.py\u001b[0m in \u001b[0;36m__init__\u001b[1;34m(self, M, cond, rcond, lower, check_finite, allow_singular)\u001b[0m\n\u001b[0;32m    154\u001b[0m         \u001b[1;31m# Note that eigh takes care of array conversion, chkfinite,\u001b[0m\u001b[1;33m\u001b[0m\u001b[1;33m\u001b[0m\u001b[1;33m\u001b[0m\u001b[0m\n\u001b[0;32m    155\u001b[0m         \u001b[1;31m# and assertion that the matrix is square.\u001b[0m\u001b[1;33m\u001b[0m\u001b[1;33m\u001b[0m\u001b[1;33m\u001b[0m\u001b[0m\n\u001b[1;32m--> 156\u001b[1;33m         \u001b[0ms\u001b[0m\u001b[1;33m,\u001b[0m \u001b[0mu\u001b[0m \u001b[1;33m=\u001b[0m \u001b[0mscipy\u001b[0m\u001b[1;33m.\u001b[0m\u001b[0mlinalg\u001b[0m\u001b[1;33m.\u001b[0m\u001b[0meigh\u001b[0m\u001b[1;33m(\u001b[0m\u001b[0mM\u001b[0m\u001b[1;33m,\u001b[0m \u001b[0mlower\u001b[0m\u001b[1;33m=\u001b[0m\u001b[0mlower\u001b[0m\u001b[1;33m,\u001b[0m \u001b[0mcheck_finite\u001b[0m\u001b[1;33m=\u001b[0m\u001b[0mcheck_finite\u001b[0m\u001b[1;33m)\u001b[0m\u001b[1;33m\u001b[0m\u001b[1;33m\u001b[0m\u001b[0m\n\u001b[0m\u001b[0;32m    157\u001b[0m \u001b[1;33m\u001b[0m\u001b[0m\n\u001b[0;32m    158\u001b[0m         \u001b[0meps\u001b[0m \u001b[1;33m=\u001b[0m \u001b[0m_eigvalsh_to_eps\u001b[0m\u001b[1;33m(\u001b[0m\u001b[0ms\u001b[0m\u001b[1;33m,\u001b[0m \u001b[0mcond\u001b[0m\u001b[1;33m,\u001b[0m \u001b[0mrcond\u001b[0m\u001b[1;33m)\u001b[0m\u001b[1;33m\u001b[0m\u001b[1;33m\u001b[0m\u001b[0m\n",
      "\u001b[1;32mc:\\python36\\lib\\site-packages\\scipy\\linalg\\decomp.py\u001b[0m in \u001b[0;36meigh\u001b[1;34m(a, b, lower, eigvals_only, overwrite_a, overwrite_b, turbo, eigvals, type, check_finite)\u001b[0m\n\u001b[0;32m    372\u001b[0m \u001b[1;33m\u001b[0m\u001b[0m\n\u001b[0;32m    373\u001b[0m     \"\"\"\n\u001b[1;32m--> 374\u001b[1;33m     \u001b[0ma1\u001b[0m \u001b[1;33m=\u001b[0m \u001b[0m_asarray_validated\u001b[0m\u001b[1;33m(\u001b[0m\u001b[0ma\u001b[0m\u001b[1;33m,\u001b[0m \u001b[0mcheck_finite\u001b[0m\u001b[1;33m=\u001b[0m\u001b[0mcheck_finite\u001b[0m\u001b[1;33m)\u001b[0m\u001b[1;33m\u001b[0m\u001b[1;33m\u001b[0m\u001b[0m\n\u001b[0m\u001b[0;32m    375\u001b[0m     \u001b[1;32mif\u001b[0m \u001b[0mlen\u001b[0m\u001b[1;33m(\u001b[0m\u001b[0ma1\u001b[0m\u001b[1;33m.\u001b[0m\u001b[0mshape\u001b[0m\u001b[1;33m)\u001b[0m \u001b[1;33m!=\u001b[0m \u001b[1;36m2\u001b[0m \u001b[1;32mor\u001b[0m \u001b[0ma1\u001b[0m\u001b[1;33m.\u001b[0m\u001b[0mshape\u001b[0m\u001b[1;33m[\u001b[0m\u001b[1;36m0\u001b[0m\u001b[1;33m]\u001b[0m \u001b[1;33m!=\u001b[0m \u001b[0ma1\u001b[0m\u001b[1;33m.\u001b[0m\u001b[0mshape\u001b[0m\u001b[1;33m[\u001b[0m\u001b[1;36m1\u001b[0m\u001b[1;33m]\u001b[0m\u001b[1;33m:\u001b[0m\u001b[1;33m\u001b[0m\u001b[1;33m\u001b[0m\u001b[0m\n\u001b[0;32m    376\u001b[0m         \u001b[1;32mraise\u001b[0m \u001b[0mValueError\u001b[0m\u001b[1;33m(\u001b[0m\u001b[1;34m'expected square matrix'\u001b[0m\u001b[1;33m)\u001b[0m\u001b[1;33m\u001b[0m\u001b[1;33m\u001b[0m\u001b[0m\n",
      "\u001b[1;32mc:\\python36\\lib\\site-packages\\scipy\\_lib\\_util.py\u001b[0m in \u001b[0;36m_asarray_validated\u001b[1;34m(a, check_finite, sparse_ok, objects_ok, mask_ok, as_inexact)\u001b[0m\n\u001b[0;32m    237\u001b[0m             \u001b[1;32mraise\u001b[0m \u001b[0mValueError\u001b[0m\u001b[1;33m(\u001b[0m\u001b[1;34m'masked arrays are not supported'\u001b[0m\u001b[1;33m)\u001b[0m\u001b[1;33m\u001b[0m\u001b[1;33m\u001b[0m\u001b[0m\n\u001b[0;32m    238\u001b[0m     \u001b[0mtoarray\u001b[0m \u001b[1;33m=\u001b[0m \u001b[0mnp\u001b[0m\u001b[1;33m.\u001b[0m\u001b[0masarray_chkfinite\u001b[0m \u001b[1;32mif\u001b[0m \u001b[0mcheck_finite\u001b[0m \u001b[1;32melse\u001b[0m \u001b[0mnp\u001b[0m\u001b[1;33m.\u001b[0m\u001b[0masarray\u001b[0m\u001b[1;33m\u001b[0m\u001b[1;33m\u001b[0m\u001b[0m\n\u001b[1;32m--> 239\u001b[1;33m     \u001b[0ma\u001b[0m \u001b[1;33m=\u001b[0m \u001b[0mtoarray\u001b[0m\u001b[1;33m(\u001b[0m\u001b[0ma\u001b[0m\u001b[1;33m)\u001b[0m\u001b[1;33m\u001b[0m\u001b[1;33m\u001b[0m\u001b[0m\n\u001b[0m\u001b[0;32m    240\u001b[0m     \u001b[1;32mif\u001b[0m \u001b[1;32mnot\u001b[0m \u001b[0mobjects_ok\u001b[0m\u001b[1;33m:\u001b[0m\u001b[1;33m\u001b[0m\u001b[1;33m\u001b[0m\u001b[0m\n\u001b[0;32m    241\u001b[0m         \u001b[1;32mif\u001b[0m \u001b[0ma\u001b[0m\u001b[1;33m.\u001b[0m\u001b[0mdtype\u001b[0m \u001b[1;32mis\u001b[0m \u001b[0mnp\u001b[0m\u001b[1;33m.\u001b[0m\u001b[0mdtype\u001b[0m\u001b[1;33m(\u001b[0m\u001b[1;34m'O'\u001b[0m\u001b[1;33m)\u001b[0m\u001b[1;33m:\u001b[0m\u001b[1;33m\u001b[0m\u001b[1;33m\u001b[0m\u001b[0m\n",
      "\u001b[1;32mc:\\python36\\lib\\site-packages\\numpy\\lib\\function_base.py\u001b[0m in \u001b[0;36masarray_chkfinite\u001b[1;34m(a, dtype, order)\u001b[0m\n\u001b[0;32m    494\u001b[0m     \u001b[1;32mif\u001b[0m \u001b[0ma\u001b[0m\u001b[1;33m.\u001b[0m\u001b[0mdtype\u001b[0m\u001b[1;33m.\u001b[0m\u001b[0mchar\u001b[0m \u001b[1;32min\u001b[0m \u001b[0mtypecodes\u001b[0m\u001b[1;33m[\u001b[0m\u001b[1;34m'AllFloat'\u001b[0m\u001b[1;33m]\u001b[0m \u001b[1;32mand\u001b[0m \u001b[1;32mnot\u001b[0m \u001b[0mnp\u001b[0m\u001b[1;33m.\u001b[0m\u001b[0misfinite\u001b[0m\u001b[1;33m(\u001b[0m\u001b[0ma\u001b[0m\u001b[1;33m)\u001b[0m\u001b[1;33m.\u001b[0m\u001b[0mall\u001b[0m\u001b[1;33m(\u001b[0m\u001b[1;33m)\u001b[0m\u001b[1;33m:\u001b[0m\u001b[1;33m\u001b[0m\u001b[1;33m\u001b[0m\u001b[0m\n\u001b[0;32m    495\u001b[0m         raise ValueError(\n\u001b[1;32m--> 496\u001b[1;33m             \"array must not contain infs or NaNs\")\n\u001b[0m\u001b[0;32m    497\u001b[0m     \u001b[1;32mreturn\u001b[0m \u001b[0ma\u001b[0m\u001b[1;33m\u001b[0m\u001b[1;33m\u001b[0m\u001b[0m\n\u001b[0;32m    498\u001b[0m \u001b[1;33m\u001b[0m\u001b[0m\n",
      "\u001b[1;31mValueError\u001b[0m: array must not contain infs or NaNs"
     ]
    }
   ],
   "source": [
    "ll = log_likelihood(N, K, mc, cc, zc, XF)\n",
    "new_ll = 1000000000000\n",
    "print(\"Starting EM...\")\n",
    "image_nr = 1\n",
    "while abs(ll - new_ll) > 1**-6:\n",
    "    ll = new_ll\n",
    "    resp = e_step(N, K, mc, cc, zc, XF)\n",
    "    mc, cc, zc = m_step(N, K, XF, resp)\n",
    "    print(mc)\n",
    "    new_ll = log_likelihood(N, K, mc, cc, zc, XF)\n",
    "    \n",
    "    \n",
    "    XF1_c = np.empty((0, 2))\n",
    "    XF2_c = np.empty((0, 2))\n",
    "    zc = np.reshape(zc, (1, 2))[0]\n",
    "    for i in range(10):\n",
    "        z_k = np.random.choice(np.arange(len(zc)), p=zc)\n",
    "        if z_k == 0:\n",
    "            XF1_c = np.vstack([XF1_c, np.random.multivariate_normal(mc[z_k], cc[z_k], size=100)])\n",
    "        else:\n",
    "            XF2_c = np.vstack([XF2_c, np.random.multivariate_normal(mc[z_k], cc[z_k], size=100)])\n",
    "    \n",
    "    xF1_c, yF1_c = XF1_c.T\n",
    "    xF2_c, yF2_c = XF2_c.T\n",
    "    ax = plt.gca()\n",
    "    confidence_ellipse(xF1_c, yF1_c, ax, edgecolor='green')\n",
    "    confidence_ellipse(xF2_c, yF2_c, ax, edgecolor='red')\n",
    "    \n",
    "    ax.scatter(xf, yf, c='red', s=3)\n",
    "    plt.savefig(\"em_f_\" + str(image_nr))\n",
    "    plt.close()\n",
    "    print(image_nr)\n",
    "    image_nr += 1\n",
    "    \n",
    "print(\"Done!\")"
   ]
  },
  {
   "cell_type": "code",
   "execution_count": null,
   "metadata": {},
   "outputs": [],
   "source": []
  }
 ],
 "metadata": {
  "kernelspec": {
   "display_name": "Python 3",
   "language": "python",
   "name": "python3"
  },
  "language_info": {
   "codemirror_mode": {
    "name": "ipython",
    "version": 3
   },
   "file_extension": ".py",
   "mimetype": "text/x-python",
   "name": "python",
   "nbconvert_exporter": "python",
   "pygments_lexer": "ipython3",
   "version": "3.6.8"
  }
 },
 "nbformat": 4,
 "nbformat_minor": 2
}
