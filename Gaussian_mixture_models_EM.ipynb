{
 "cells": [
  {
   "cell_type": "code",
   "execution_count": 1,
   "metadata": {},
   "outputs": [],
   "source": [
    "import numpy as np\n",
    "import matplotlib.pyplot as plt\n",
    "from gmm_em import *"
   ]
  },
  {
   "cell_type": "code",
   "execution_count": 2,
   "metadata": {},
   "outputs": [],
   "source": [
    "z = np.array([.4, .6])\n",
    "mus = np.array([[-2, -2], [2, -3]])\n",
    "covs = np.array([[[1, 0], [0, .2]], [[1, 0], [0, .1]]])"
   ]
  },
  {
   "cell_type": "code",
   "execution_count": 3,
   "metadata": {},
   "outputs": [],
   "source": [
    "colors = ['b', 'r']"
   ]
  },
  {
   "cell_type": "code",
   "execution_count": 4,
   "metadata": {},
   "outputs": [],
   "source": [
    "X1 = np.empty((0, 2))\n",
    "X2 = np.empty((0, 2))\n",
    "for i in range(10):\n",
    "    z_k = np.random.choice(np.arange(len(z)), p=z)\n",
    "    if z_k == 0:\n",
    "        X1 = np.vstack([X1, np.random.multivariate_normal(mus[z_k], covs[z_k], size=100)])\n",
    "    else:\n",
    "        X2 = np.vstack([X2, np.random.multivariate_normal(mus[z_k], covs[z_k], size=100)])"
   ]
  },
  {
   "cell_type": "code",
   "execution_count": 5,
   "metadata": {},
   "outputs": [
    {
     "data": {
      "text/plain": [
       "<matplotlib.collections.PathCollection at 0x1eb195dcc50>"
      ]
     },
     "execution_count": 5,
     "metadata": {},
     "output_type": "execute_result"
    },
    {
     "data": {
      "image/png": "[encoded data removed]",
      "text/plain": [
       "<Figure size 432x288 with 1 Axes>"
      ]
     },
     "metadata": {
      "needs_background": "light"
     },
     "output_type": "display_data"
    }
   ],
   "source": [
    "x1, y1 = X1.T\n",
    "x2, y2 = X2.T\n",
    "ax = plt.gca()\n",
    "confidence_ellipse(x1, y1, ax, edgecolor='red')\n",
    "confidence_ellipse(x2, y2, ax, edgecolor='blue')\n",
    "ax.scatter(x1, y1, c='red', s=3)\n",
    "ax.scatter(x2, y2, c='blue', s=3)"
   ]
  },
  {
   "cell_type": "markdown",
   "metadata": {},
   "source": [
    "### Initialize mean and covariance and pi"
   ]
  },
  {
   "cell_type": "code",
   "execution_count": 6,
   "metadata": {},
   "outputs": [],
   "source": [
    "zc = np.array([.7, .3])\n",
    "mc = np.array([[-4, -6], [4, 0]])\n",
    "\n",
    "\n",
    "cc = np.array([[[.2, 0], [0, .2]], [[.2, 0], [0, .2]]])"
   ]
  },
  {
   "cell_type": "code",
   "execution_count": 7,
   "metadata": {},
   "outputs": [],
   "source": [
    "X = np.vstack([X1, X2])\n",
    "N = len(X)\n",
    "K = len(zc)"
   ]
  },
  {
   "cell_type": "code",
   "execution_count": 8,
   "metadata": {},
   "outputs": [],
   "source": [
    "X1_c = np.empty((0, 2))\n",
    "X2_c = np.empty((0, 2))\n",
    "zc = np.reshape(zc, (1, 2))[0]\n",
    "for i in range(10):\n",
    "    z_k = np.random.choice(np.arange(len(zc)), p=zc)\n",
    "    if z_k == 0:\n",
    "        X1_c = np.vstack([X1_c, np.random.multivariate_normal(mc[z_k], cc[z_k], size=100)])\n",
    "    else:\n",
    "        X2_c = np.vstack([X2_c, np.random.multivariate_normal(mc[z_k], cc[z_k], size=100)])\n",
    "\n",
    "x1_c, y1_c = X1_c.T\n",
    "x2_c, y2_c = X2_c.T\n",
    "ax = plt.gca()\n",
    "confidence_ellipse(x1_c, y1_c, ax, edgecolor='black')\n",
    "confidence_ellipse(x2_c, y2_c, ax, edgecolor='green')\n",
    "# Old confidences and data\n",
    "confidence_ellipse(x1, y1, ax, edgecolor='red')\n",
    "confidence_ellipse(x2, y2, ax, edgecolor='blue')\n",
    "ax.scatter(x1, y1, c='red', s=3)\n",
    "ax.scatter(x2, y2, c='blue', s=3)\n",
    "plt.savefig(\"em_0\")\n",
    "plt.close()"
   ]
  },
  {
   "cell_type": "code",
   "execution_count": 9,
   "metadata": {},
   "outputs": [
    {
     "name": "stdout",
     "output_type": "stream",
     "text": [
      "Starting EM...\n"
     ]
    },
    {
     "name": "stderr",
     "output_type": "stream",
     "text": [
      "c:\\python36\\lib\\site-packages\\numpy\\lib\\function_base.py:390: RuntimeWarning: Mean of empty slice.\n",
      "  avg = a.mean(axis)\n",
      "c:\\python36\\lib\\site-packages\\numpy\\core\\_methods.py:154: RuntimeWarning: invalid value encountered in true_divide\n",
      "  ret, rcount, out=ret, casting='unsafe', subok=False)\n",
      "C:\\Users\\Max\\edu\\kth\\github_projects\\Estimation-Maximization-Gaussian-Mixture-Model\\gmm_em.py:80: RuntimeWarning: Degrees of freedom <= 0 for slice\n",
      "  cov = np.cov(x, y)\n",
      "c:\\python36\\lib\\site-packages\\numpy\\lib\\function_base.py:2455: RuntimeWarning: divide by zero encountered in true_divide\n",
      "  c *= np.true_divide(1, fact)\n",
      "c:\\python36\\lib\\site-packages\\numpy\\lib\\function_base.py:2455: RuntimeWarning: invalid value encountered in multiply\n",
      "  c *= np.true_divide(1, fact)\n",
      "c:\\python36\\lib\\site-packages\\numpy\\core\\fromnumeric.py:3257: RuntimeWarning: Mean of empty slice.\n",
      "  out=out, **kwargs)\n",
      "c:\\python36\\lib\\site-packages\\numpy\\core\\_methods.py:161: RuntimeWarning: invalid value encountered in double_scalars\n",
      "  ret = ret.dtype.type(ret / rcount)\n"
     ]
    },
    {
     "name": "stdout",
     "output_type": "stream",
     "text": [
      "Done!\n"
     ]
    }
   ],
   "source": [
    "ll = log_likelihood(N, K, mc, cc, zc, X)\n",
    "new_ll = 1000000000000\n",
    "print(\"Starting EM...\")\n",
    "image_nr = 1\n",
    "while abs(ll - new_ll) > 1**-6:\n",
    "    ll = new_ll\n",
    "    resp = e_step(N, K, mc, cc, zc, X)\n",
    "    mc, cc, zc = m_step(N, K, X, resp)\n",
    "    new_ll = log_likelihood(N, K, mc, cc, zc, X)\n",
    "    \n",
    "    X1_c = np.empty((0, 2))\n",
    "    X2_c = np.empty((0, 2))\n",
    "    zc = np.reshape(zc, (1, 2))[0]\n",
    "    for i in range(10):\n",
    "        z_k = np.random.choice(np.arange(len(zc)), p=zc)\n",
    "        if z_k == 0:\n",
    "            X1_c = np.vstack([X1_c, np.random.multivariate_normal(mc[z_k], cc[z_k], size=100)])\n",
    "        else:\n",
    "            X2_c = np.vstack([X2_c, np.random.multivariate_normal(mc[z_k], cc[z_k], size=100)])\n",
    "    \n",
    "    x1_c, y1_c = X1_c.T\n",
    "    x2_c, y2_c = X2_c.T\n",
    "    ax = plt.gca()\n",
    "    confidence_ellipse(x1_c, y1_c, ax, edgecolor='black')\n",
    "    confidence_ellipse(x2_c, y2_c, ax, edgecolor='green')\n",
    "    # Old confidences and data\n",
    "    confidence_ellipse(x1, y1, ax, edgecolor='red')\n",
    "    confidence_ellipse(x2, y2, ax, edgecolor='blue')\n",
    "    ax.scatter(x1, y1, c='red', s=3)\n",
    "    ax.scatter(x2, y2, c='blue', s=3)\n",
    "    plt.savefig(\"em_\" + str(image_nr))\n",
    "    plt.close()\n",
    "    image_nr += 1\n",
    "    \n",
    "print(\"Done!\")"
   ]
  },
  {
   "cell_type": "code",
   "execution_count": null,
   "metadata": {},
   "outputs": [],
   "source": []
  }
 ],
 "metadata": {
  "kernelspec": {
   "display_name": "Python 3",
   "language": "python",
   "name": "python3"
  },
  "language_info": {
   "codemirror_mode": {
    "name": "ipython",
    "version": 3
   },
   "file_extension": ".py",
   "mimetype": "text/x-python",
   "name": "python",
   "nbconvert_exporter": "python",
   "pygments_lexer": "ipython3",
   "version": "3.6.8"
  }
 },
 "nbformat": 4,
 "nbformat_minor": 2
}
